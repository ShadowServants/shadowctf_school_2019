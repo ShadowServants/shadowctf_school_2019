{
 "cells": [
  {
   "cell_type": "code",
   "execution_count": 1,
   "metadata": {},
   "outputs": [],
   "source": [
    "from sage.all import *\n",
    "\n",
    "import random\n",
    "import string"
   ]
  },
  {
   "cell_type": "code",
   "execution_count": 2,
   "metadata": {},
   "outputs": [],
   "source": [
    "ALPH = string.ascii_letters + string.digits"
   ]
  },
  {
   "cell_type": "code",
   "execution_count": 3,
   "metadata": {},
   "outputs": [],
   "source": [
    "def rand_str(n):\n",
    "    return ''.join(random.choice(ALPH) for _ in range(n))"
   ]
  },
  {
   "cell_type": "code",
   "execution_count": 4,
   "metadata": {},
   "outputs": [],
   "source": [
    "def str_to_int(s):\n",
    "    return int(''.join(hex(ord(c))[2:].zfill(2) for c in s), 16)"
   ]
  },
  {
   "cell_type": "code",
   "execution_count": 5,
   "metadata": {},
   "outputs": [],
   "source": [
    "def solve_dicrete_log(a, b, N):\n",
    "    K = GF(N)\n",
    "    k_a = K(a)\n",
    "    k_b = K(b)\n",
    "    return k_b.log(k_a)"
   ]
  },
  {
   "cell_type": "code",
   "execution_count": 6,
   "metadata": {},
   "outputs": [],
   "source": [
    "def try_to_decode(mess, enc):\n",
    "    bit_len = max(len(bin(mess)), len(bin(enc))) - 2\n",
    "    pq_len = (bit_len // 2 + random.randint(1, 3))\n",
    "    p, q = random_prime(2 ^ pq_len), random_prime(2 ^ pq_len)\n",
    "    N = p * q\n",
    "    phi = (p - 1) * (q - 1)\n",
    "    \n",
    "    x1 = solve_dicrete_log(mess, enc, p)\n",
    "    x2 = solve_dicrete_log(mess, enc, q)\n",
    "    \n",
    "    e = crt([x1, x2], [p - 1, q - 1])\n",
    "    d = inverse_mod(e, phi)\n",
    "    return e, d, N"
   ]
  },
  {
   "cell_type": "code",
   "execution_count": 7,
   "metadata": {},
   "outputs": [],
   "source": [
    "def check_solution(e, d, N, mess, enc):\n",
    "    encoded_test = power_mod(mess, e, N)\n",
    "    decoded_test = power_mod(encoded_test, d, N)\n",
    "    return encoded_test == enc and decoded_test == mess"
   ]
  },
  {
   "cell_type": "code",
   "execution_count": 8,
   "metadata": {},
   "outputs": [],
   "source": [
    "def solve(mess, enc):\n",
    "    cnt = 1\n",
    "    while True:\n",
    "        try:\n",
    "            re, rd, rN = try_to_decode(mess, enc)\n",
    "            if not check_solution(re, rd, rN, mess, enc):\n",
    "                raise ValueError\n",
    "        except:\n",
    "            cnt += 1\n",
    "            continue\n",
    "        else:\n",
    "            break\n",
    "    return re, rd, rN, cnt"
   ]
  },
  {
   "cell_type": "markdown",
   "metadata": {},
   "source": [
    "#### Test message generation solution code"
   ]
  },
  {
   "cell_type": "code",
   "execution_count": 9,
   "metadata": {},
   "outputs": [],
   "source": [
    "def test_all():\n",
    "    counts = []\n",
    "    for _ in range(100):\n",
    "        s = rand_str(12)\n",
    "        num = str_to_int(s)\n",
    "        bit_len = len(bin(num)) - 2\n",
    "        p, q = random_prime(2 ^ (bit_len // 2 + 1)), random_prime(2 ^ (bit_len // 2 + 1))\n",
    "        N = p * q\n",
    "        phi = (p - 1) * (q - 1)\n",
    "\n",
    "        while True:\n",
    "            e = random_prime(2^bit_len, lbound=17)\n",
    "            try:\n",
    "                d = inverse_mod(e, phi)\n",
    "            except ZeroDivisionError:\n",
    "                continue\n",
    "            else:\n",
    "                break\n",
    "\n",
    "        enc = power_mod(num, e, N)\n",
    "\n",
    "        re, rd, rN, cnt = solve(num, enc)\n",
    "        counts.append(cnt)\n",
    "#         print('Got solution ({}, {}, {}) in {} tries\\n'.format(re, rd, rN, cnt))\n",
    "\n",
    "    print('Average tries: {}'.format(float(sum(counts) / len(counts))))"
   ]
  },
  {
   "cell_type": "code",
   "execution_count": 10,
   "metadata": {},
   "outputs": [
    {
     "name": "stdout",
     "output_type": "stream",
     "text": [
      "Average tries: 42.22\n",
      "CPU times: user 56.7 s, sys: 493 ms, total: 57.2 s\n",
      "Wall time: 57.7 s\n"
     ]
    }
   ],
   "source": [
    "%time test_all()"
   ]
  },
  {
   "cell_type": "markdown",
   "metadata": {},
   "source": [
    "### The solution itself"
   ]
  },
  {
   "cell_type": "code",
   "execution_count": 11,
   "metadata": {},
   "outputs": [],
   "source": [
    "import socket\n",
    "import time\n",
    "import re"
   ]
  },
  {
   "cell_type": "code",
   "execution_count": 12,
   "metadata": {},
   "outputs": [],
   "source": [
    "def test_solution():\n",
    "    sock = socket.socket()\n",
    "    sock.connect(('localhost', 1337))\n",
    "    time.sleep(0.1)\n",
    "\n",
    "    while True:\n",
    "        s = sock.recv(1024).decode()\n",
    "        if 'shadowctf' in s:\n",
    "            print('Got a flag!')\n",
    "            break\n",
    "        mess, enc = map(int, re.findall(r\": (\\d+)\", s))\n",
    "        e, d, N, _ = solve(mess, enc)\n",
    "        sock.send(\"{} {} {}\\n\".format(e, d, N))\n",
    "        time.sleep(0.1)"
   ]
  },
  {
   "cell_type": "code",
   "execution_count": 13,
   "metadata": {},
   "outputs": [
    {
     "name": "stdout",
     "output_type": "stream",
     "text": [
      "Got a flag!\n",
      "CPU times: user 46.7 s, sys: 404 ms, total: 47.1 s\n",
      "Wall time: 58 s\n"
     ]
    }
   ],
   "source": [
    "%time test_solution()"
   ]
  }
 ],
 "metadata": {
  "kernelspec": {
   "display_name": "SageMath 8.3",
   "language": "",
   "name": "sagemath"
  },
  "language_info": {
   "codemirror_mode": {
    "name": "ipython",
    "version": 2
   },
   "file_extension": ".py",
   "mimetype": "text/x-python",
   "name": "python",
   "nbconvert_exporter": "python",
   "pygments_lexer": "ipython2",
   "version": "2.7.15"
  }
 },
 "nbformat": 4,
 "nbformat_minor": 2
}
